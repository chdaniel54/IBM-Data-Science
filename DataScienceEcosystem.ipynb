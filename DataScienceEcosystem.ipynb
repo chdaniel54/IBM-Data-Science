{
 "cells": [
  {
   "cell_type": "markdown",
   "id": "339f12a2-6211-42af-81d3-f39f394a91e2",
   "metadata": {
    "tags": []
   },
   "source": [
    "# Data Science Tools and Ecosystem"
   ]
  },
  {
   "cell_type": "markdown",
   "id": "1186e729-a3cb-4f6e-976f-52b2442f5abf",
   "metadata": {
    "tags": []
   },
   "source": [
    "In this notebook, Data Science Tools and Ecosystem are summarized."
   ]
  },
  {
   "cell_type": "markdown",
   "id": "afc4b89c-7ee8-4186-8258-7814bab7bfe4",
   "metadata": {
    "tags": []
   },
   "source": [
    "Some of the popular languages that Data Scientists use are:\n",
    "1. R Studio\n",
    "2. Python\n",
    "3. SQL"
   ]
  },
  {
   "cell_type": "markdown",
   "id": "af7a8239-18a6-411a-9070-9f25e880a429",
   "metadata": {},
   "source": [
    "Some of the commonly used libraries used by Data Scientists include:\n",
    "1. math\n",
    "2. ploty\n",
    "3. ggplot\n"
   ]
  },
  {
   "cell_type": "markdown",
   "id": "7ff022c5-93df-423e-b1d9-635486a9e9d5",
   "metadata": {},
   "source": [
    "|Data Science Tools|\n",
    "|---|\n",
    "|Python|\n",
    "|Jupyter Notebook|\n",
    "|Apache Spark|"
   ]
  },
  {
   "cell_type": "markdown",
   "id": "6ad63fda-930f-4c31-b119-cb0c865d350e",
   "metadata": {},
   "source": [
    "### Below are a few examples of evaluating arithmetic expressions in Python"
   ]
  },
  {
   "cell_type": "code",
   "execution_count": 7,
   "id": "62a7cf21-d299-4b14-81da-0641b12e0334",
   "metadata": {
    "tags": []
   },
   "outputs": [
    {
     "data": {
      "text/plain": [
       "17"
      ]
     },
     "execution_count": 7,
     "metadata": {},
     "output_type": "execute_result"
    }
   ],
   "source": [
    "#This a simple arithmetic expression to mutiply then add integers\n",
    "(3*4)+5"
   ]
  },
  {
   "cell_type": "code",
   "execution_count": 8,
   "id": "7638b923-11e3-4b73-aa9c-825b4766cc60",
   "metadata": {
    "tags": []
   },
   "outputs": [
    {
     "data": {
      "text/plain": [
       "3.3333333333333335"
      ]
     },
     "execution_count": 8,
     "metadata": {},
     "output_type": "execute_result"
    }
   ],
   "source": [
    "#This will convert 200 minutes to hours by diving by 60.\n",
    "200/60"
   ]
  },
  {
   "cell_type": "markdown",
   "id": "18189e36-a1b6-4fa0-b58c-331b7b7422bc",
   "metadata": {},
   "source": [
    "# **Objectives:**"
   ]
  },
  {
   "cell_type": "markdown",
   "id": "e5bdd723-d36b-4157-a3e6-515bdebad6ed",
   "metadata": {},
   "source": [
    " List popular languages for Data Science\n",
    "* Python\n",
    "* R Studio\n",
    "* SQL"
   ]
  },
  {
   "cell_type": "markdown",
   "id": "f8793d83-0cf2-41ac-9b7f-e65efc08ab28",
   "metadata": {},
   "source": [
    "## Author\n",
    "Daniel "
   ]
  },
  {
   "cell_type": "code",
   "execution_count": null,
   "id": "5e649ac2-a203-4484-a2c3-48f46c11f87c",
   "metadata": {},
   "outputs": [],
   "source": []
  }
 ],
 "metadata": {
  "kernelspec": {
   "display_name": "Python",
   "language": "python",
   "name": "conda-env-python-py"
  },
  "language_info": {
   "codemirror_mode": {
    "name": "ipython",
    "version": 3
   },
   "file_extension": ".py",
   "mimetype": "text/x-python",
   "name": "python",
   "nbconvert_exporter": "python",
   "pygments_lexer": "ipython3",
   "version": "3.7.12"
  }
 },
 "nbformat": 4,
 "nbformat_minor": 5
}
